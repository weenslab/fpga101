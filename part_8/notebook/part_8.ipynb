{
 "cells": [
  {
   "cell_type": "code",
   "execution_count": 1,
   "id": "5af058b6",
   "metadata": {},
   "outputs": [
    {
     "data": {
      "application/javascript": [
       "\n",
       "try {\n",
       "require(['notebook/js/codecell'], function(codecell) {\n",
       "  codecell.CodeCell.options_default.highlight_modes[\n",
       "      'magic_text/x-csrc'] = {'reg':[/^%%microblaze/]};\n",
       "  Jupyter.notebook.events.one('kernel_ready.Kernel', function(){\n",
       "      Jupyter.notebook.get_cells().map(function(cell){\n",
       "          if (cell.cell_type == 'code'){ cell.auto_highlight(); } }) ;\n",
       "  });\n",
       "});\n",
       "} catch (e) {};\n"
      ]
     },
     "metadata": {},
     "output_type": "display_data"
    },
    {
     "data": {
      "application/javascript": [
       "\n",
       "try {\n",
       "require(['notebook/js/codecell'], function(codecell) {\n",
       "  codecell.CodeCell.options_default.highlight_modes[\n",
       "      'magic_text/x-csrc'] = {'reg':[/^%%pybind11/]};\n",
       "  Jupyter.notebook.events.one('kernel_ready.Kernel', function(){\n",
       "      Jupyter.notebook.get_cells().map(function(cell){\n",
       "          if (cell.cell_type == 'code'){ cell.auto_highlight(); } }) ;\n",
       "  });\n",
       "});\n",
       "} catch (e) {};\n"
      ]
     },
     "metadata": {},
     "output_type": "display_data"
    }
   ],
   "source": [
    "from pynq import Overlay\n",
    "from pynq import allocate\n",
    "import numpy as np\n",
    "\n",
    "# Program bitstream to FPGA\n",
    "overlay = Overlay('/home/xilinx/workspace/part_8.bit')\n",
    "\n",
    "# Access to AXI DMA\n",
    "dma = overlay.axi_dma_0\n",
    "dma_send = overlay.axi_dma_0.sendchannel\n",
    "dma_recv = overlay.axi_dma_0.recvchannel"
   ]
  },
  {
   "cell_type": "code",
   "execution_count": 2,
   "id": "5c553486",
   "metadata": {},
   "outputs": [],
   "source": [
    "# Allocate physical memory\n",
    "input_buffer = allocate(shape=(14,), dtype=np.uint32)\n",
    "output_buffer = allocate(shape=(4,), dtype=np.uint32)"
   ]
  },
  {
   "cell_type": "code",
   "execution_count": 3,
   "id": "98125436",
   "metadata": {},
   "outputs": [
    {
     "name": "stdout",
     "output_type": "stream",
     "text": [
      "0x057A057A\n",
      "0x0000B07A\n",
      "0x03E10314\n",
      "0x0000FC66\n",
      "0x028F0433\n",
      "0x0000FC70\n",
      "0xFAC21C70\n",
      "0xF5A30051\n",
      "0x0685E399\n",
      "0x00CC07E1\n",
      "0x20002000\n",
      "0x14001400\n",
      "0x14002000\n",
      "0x14002000\n"
     ]
    }
   ],
   "source": [
    "# Weight and bias\n",
    "input_buffer[0] = 0x057A057A\n",
    "input_buffer[1] = 0x0000B07A\n",
    "\n",
    "input_buffer[2] = 0x03E10314\n",
    "input_buffer[3] = 0x0000FC66\n",
    "\n",
    "input_buffer[4] = 0x028F0433\n",
    "input_buffer[5] = 0x0000FC70\n",
    "\n",
    "input_buffer[6] = 0xFAC21C70\n",
    "input_buffer[7] = 0xF5A30051\n",
    "\n",
    "input_buffer[8] = 0x0685E399\n",
    "input_buffer[9] = 0x00CC07E1\n",
    "\n",
    "# Input\n",
    "input_buffer[10] = 0x20002000\n",
    "input_buffer[11] = 0x14001400\n",
    "\n",
    "input_buffer[12] = 0x14002000\n",
    "input_buffer[13] = 0x14002000\n",
    "\n",
    "# Check the written data\n",
    "for i in range(14):\n",
    "    print(\"0x%08X\" % (input_buffer[i]))"
   ]
  },
  {
   "cell_type": "code",
   "execution_count": 4,
   "id": "1c628c0f",
   "metadata": {},
   "outputs": [],
   "source": [
    "# Do AXI DMA MM2S transfer\n",
    "dma_send.transfer(input_buffer)\n",
    "# Do AXI DMA S2MM transfer\n",
    "dma_recv.transfer(output_buffer)"
   ]
  },
  {
   "cell_type": "code",
   "execution_count": 5,
   "id": "e9190b63",
   "metadata": {},
   "outputs": [
    {
     "name": "stdout",
     "output_type": "stream",
     "text": [
      "0x002B03A8\n",
      "0x0014002B\n",
      "0x03CF004D\n",
      "0x03E803CF\n"
     ]
    }
   ],
   "source": [
    "# Check the memory content after DMA transfer\n",
    "for i in range(4):\n",
    "    print(\"0x%08X\" % (output_buffer[i]))"
   ]
  },
  {
   "cell_type": "code",
   "execution_count": 6,
   "id": "0158989a",
   "metadata": {},
   "outputs": [
    {
     "data": {
      "text/plain": [
       "array([[0.9140625 , 0.04199219, 0.04199219, 0.01953125],\n",
       "       [0.07519531, 0.95214844, 0.95214844, 0.9765625 ]])"
      ]
     },
     "execution_count": 6,
     "metadata": {},
     "output_type": "execute_result"
    }
   ],
   "source": [
    "# Convert output to from fixed-point to float\n",
    "pred_hw = np.zeros((2,4))\n",
    "\n",
    "pred_hw[0][0] = ((output_buffer[0] & 0x0000FFFF) / 1024.0)\n",
    "pred_hw[0][1] = (((output_buffer[0] & 0xFFFF0000) >> 16) / 1024.0)\n",
    "pred_hw[0][2] = ((output_buffer[1] & 0x0000FFFF) / 1024.0)\n",
    "pred_hw[0][3] = (((output_buffer[1] & 0xFFFF0000) >> 16) / 1024.0)\n",
    "\n",
    "pred_hw[1][0] = ((output_buffer[2] & 0x0000FFFF) / 1024.0)\n",
    "pred_hw[1][1] = (((output_buffer[2] & 0xFFFF0000) >> 16) / 1024.0)\n",
    "pred_hw[1][2] = ((output_buffer[3] & 0x0000FFFF) / 1024.0)\n",
    "pred_hw[1][3] = (((output_buffer[3] & 0xFFFF0000) >> 16) / 1024.0)\n",
    "\n",
    "# Prediction\n",
    "pred_hw"
   ]
  },
  {
   "cell_type": "code",
   "execution_count": 7,
   "id": "3a6fae46",
   "metadata": {},
   "outputs": [
    {
     "data": {
      "text/plain": [
       "array([[1., 0., 0., 0.],\n",
       "       [0., 1., 1., 1.]])"
      ]
     },
     "execution_count": 7,
     "metadata": {},
     "output_type": "execute_result"
    }
   ],
   "source": [
    "# Rounding\n",
    "np.round(pred_hw)"
   ]
  },
  {
   "cell_type": "code",
   "execution_count": 8,
   "id": "211c7347",
   "metadata": {},
   "outputs": [],
   "source": [
    "# Delete buffer to prevent memory leak\n",
    "del input_buffer, output_buffer"
   ]
  },
  {
   "cell_type": "code",
   "execution_count": null,
   "id": "6fc00a93",
   "metadata": {},
   "outputs": [],
   "source": []
  }
 ],
 "metadata": {
  "kernelspec": {
   "display_name": "Python 3 (ipykernel)",
   "language": "python",
   "name": "python3"
  },
  "language_info": {
   "codemirror_mode": {
    "name": "ipython",
    "version": 3
   },
   "file_extension": ".py",
   "mimetype": "text/x-python",
   "name": "python",
   "nbconvert_exporter": "python",
   "pygments_lexer": "ipython3",
   "version": "3.10.4"
  }
 },
 "nbformat": 4,
 "nbformat_minor": 5
}
