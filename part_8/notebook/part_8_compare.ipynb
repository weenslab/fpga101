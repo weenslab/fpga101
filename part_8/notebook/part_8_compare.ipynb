{
 "cells": [
  {
   "cell_type": "code",
   "execution_count": 1,
   "id": "6f66d83c",
   "metadata": {},
   "outputs": [
    {
     "data": {
      "application/javascript": [
       "\n",
       "try {\n",
       "require(['notebook/js/codecell'], function(codecell) {\n",
       "  codecell.CodeCell.options_default.highlight_modes[\n",
       "      'magic_text/x-csrc'] = {'reg':[/^%%microblaze/]};\n",
       "  Jupyter.notebook.events.one('kernel_ready.Kernel', function(){\n",
       "      Jupyter.notebook.get_cells().map(function(cell){\n",
       "          if (cell.cell_type == 'code'){ cell.auto_highlight(); } }) ;\n",
       "  });\n",
       "});\n",
       "} catch (e) {};\n"
      ]
     },
     "metadata": {},
     "output_type": "display_data"
    },
    {
     "data": {
      "application/javascript": [
       "\n",
       "try {\n",
       "require(['notebook/js/codecell'], function(codecell) {\n",
       "  codecell.CodeCell.options_default.highlight_modes[\n",
       "      'magic_text/x-csrc'] = {'reg':[/^%%pybind11/]};\n",
       "  Jupyter.notebook.events.one('kernel_ready.Kernel', function(){\n",
       "      Jupyter.notebook.get_cells().map(function(cell){\n",
       "          if (cell.cell_type == 'code'){ cell.auto_highlight(); } }) ;\n",
       "  });\n",
       "});\n",
       "} catch (e) {};\n"
      ]
     },
     "metadata": {},
     "output_type": "display_data"
    }
   ],
   "source": [
    "from pynq import Overlay\n",
    "from pynq import allocate\n",
    "import numpy as np\n",
    "from time import time\n",
    "\n",
    "# Program bitstream to FPGA\n",
    "overlay = Overlay('/home/xilinx/workspace/part_8.bit')\n",
    "\n",
    "# Access to AXI DMA\n",
    "dma = overlay.axi_dma_0\n",
    "dma_send = overlay.axi_dma_0.sendchannel\n",
    "dma_recv = overlay.axi_dma_0.recvchannel"
   ]
  },
  {
   "cell_type": "code",
   "execution_count": 2,
   "id": "1a6888d9",
   "metadata": {},
   "outputs": [
    {
     "name": "stdout",
     "output_type": "stream",
     "text": [
      "Time used for HW NN: 410.6319613456726s\n"
     ]
    }
   ],
   "source": [
    "# Measure the time required for HW ANN\n",
    "t1 = time()\n",
    "# Allocate physical memory\n",
    "input_buffer = allocate(shape=(14,), dtype=np.uint32)\n",
    "output_buffer = allocate(shape=(4,), dtype=np.uint32)\n",
    "# Weight and bias\n",
    "input_buffer[0] = 0x057A057A\n",
    "input_buffer[1] = 0x0000B07A\n",
    "input_buffer[2] = 0x03E10314\n",
    "input_buffer[3] = 0x0000FC66\n",
    "input_buffer[4] = 0x028F0433\n",
    "input_buffer[5] = 0x0000FC70\n",
    "input_buffer[6] = 0xFAC21C70\n",
    "input_buffer[7] = 0xF5A30051\n",
    "input_buffer[8] = 0x0685E399\n",
    "input_buffer[9] = 0x00CC07E1\n",
    "# Input\n",
    "input_buffer[10] = 0x20002000\n",
    "input_buffer[11] = 0x14001400\n",
    "input_buffer[12] = 0x14002000\n",
    "input_buffer[13] = 0x14002000\n",
    "for i in range(1000000):\n",
    "    # Do AXI DMA MM2S transfer\n",
    "    dma_send.transfer(input_buffer)\n",
    "    # Do AXI DMA S2MM transfer\n",
    "    dma_recv.transfer(output_buffer)\n",
    "# Output\n",
    "pred_hw = np.zeros((2,4))\n",
    "pred_hw[0][0] = ((output_buffer[0] & 0x0000FFFF) / 1024.0)\n",
    "pred_hw[0][1] = (((output_buffer[0] & 0xFFFF0000) >> 16) / 1024.0)\n",
    "pred_hw[0][2] = ((output_buffer[1] & 0x0000FFFF) / 1024.0)\n",
    "pred_hw[0][3] = (((output_buffer[1] & 0xFFFF0000) >> 16) / 1024.0)\n",
    "pred_hw[1][0] = ((output_buffer[2] & 0x0000FFFF) / 1024.0)\n",
    "pred_hw[1][1] = (((output_buffer[2] & 0xFFFF0000) >> 16) / 1024.0)\n",
    "pred_hw[1][2] = ((output_buffer[3] & 0x0000FFFF) / 1024.0)\n",
    "pred_hw[1][3] = (((output_buffer[3] & 0xFFFF0000) >> 16) / 1024.0)\n",
    "t2 = time()\n",
    "t_diff = t2 - t1\n",
    "print('Time used for HW NN: {}s'.format(t_diff))"
   ]
  },
  {
   "cell_type": "code",
   "execution_count": 3,
   "id": "2d0a0b20",
   "metadata": {},
   "outputs": [
    {
     "name": "stdout",
     "output_type": "stream",
     "text": [
      "Time used for SW ANN: 462.7993199825287s\n"
     ]
    }
   ],
   "source": [
    "# Measure the time required for SW ANN\n",
    "t1 = time()\n",
    "k = np.array([[8, 8, 5, 5],\n",
    "              [8, 5, 8, 5]])\n",
    "wb2 = np.array([[1.37, 1.37, -19.88],\n",
    "                [0.77, 0.97,  -0.90],\n",
    "                [1.05, 0.64,  -0.89]])\n",
    "wb3 = np.array([[ 7.11, -1.31, 0.08, -2.59],\n",
    "                [-7.10,  1.63, 1.97,  0.20]])\n",
    "for i in range(1000000):\n",
    "    k_padded = np.concatenate((k, np.array([[1, 1, 1, 1]])), axis=0)\n",
    "    z2 = np.matmul(wb2, k_padded)\n",
    "    a2 = 1/(1+np.exp(-z2))\n",
    "    a2_padded = np.concatenate((a2, np.array([[1, 1, 1, 1]])), axis=0)\n",
    "    z3 = np.matmul(wb3, a2_padded)\n",
    "    a3 = 1/(1+np.exp(-z3))\n",
    "t2 = time()\n",
    "t_diff = t2 - t1\n",
    "print('Time used for SW ANN: {}s'.format(t_diff))"
   ]
  },
  {
   "cell_type": "code",
   "execution_count": null,
   "id": "55cb18d3",
   "metadata": {},
   "outputs": [],
   "source": []
  }
 ],
 "metadata": {
  "kernelspec": {
   "display_name": "Python 3 (ipykernel)",
   "language": "python",
   "name": "python3"
  },
  "language_info": {
   "codemirror_mode": {
    "name": "ipython",
    "version": 3
   },
   "file_extension": ".py",
   "mimetype": "text/x-python",
   "name": "python",
   "nbconvert_exporter": "python",
   "pygments_lexer": "ipython3",
   "version": "3.10.4"
  }
 },
 "nbformat": 4,
 "nbformat_minor": 5
}
